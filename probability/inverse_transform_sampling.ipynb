{
 "cells": [
  {
   "cell_type": "markdown",
   "metadata": {},
   "source": [
    "# Inverse Transform Sampling applied to Latin Hypercube Sampling\n",
    "\n",
    "https://en.wikipedia.org/wiki/Inverse_transform_sampling\n",
    "\n",
    "https://stats.stackexchange.com/questions/269163/generating-a-sample-using-inverse-cdf-method-in-python/269171"
   ]
  },
  {
   "cell_type": "code",
   "execution_count": 1,
   "metadata": {
    "collapsed": true
   },
   "outputs": [],
   "source": [
    "import pandas as pd\n",
    "import numpy as np\n",
    "from scipy.stats import norm\n",
    "\n",
    "from matplotlib import pyplot as plt\n",
    "%matplotlib inline\n",
    "import seaborn as sns"
   ]
  },
  {
   "cell_type": "markdown",
   "metadata": {},
   "source": [
    "First, generate a sample in the interval `[0,1]`. Use `NumPy`'s `random.rand()` or `random.uniform()` functions for instance."
   ]
  },
  {
   "cell_type": "code",
   "execution_count": 4,
   "metadata": {},
   "outputs": [
    {
     "data": {
      "image/png": "[encoded data removed]",
      "text/plain": [
       "<matplotlib.figure.Figure at 0x11722cc18>"
      ]
     },
     "metadata": {},
     "output_type": "display_data"
    }
   ],
   "source": [
    "# Generate random numbers following a uniform distribution\n",
    "N = 1000\n",
    "q = np.random.uniform(0, 1, N) # in [0, 1] range, q = np.random.rand(N) gives similar results\n",
    "\n",
    "# Plot distribution\n",
    "plt.figure(figsize=(6, 4));\n",
    "sns.distplot(q, kde=False);"
   ]
  },
  {
   "cell_type": "markdown",
   "metadata": {},
   "source": [
    "Second, transform the sample with the help of the inverse CDF function. `SciPy` provides these functions under the signature `distribution.ppf(quantile, parameter1, parameter2,...)`.\n",
    "\n",
    "Example using normal distribution with μ=5 and σ=0.5"
   ]
  },
  {
   "cell_type": "code",
   "execution_count": 5,
   "metadata": {},
   "outputs": [
    {
     "data": {
      "image/png": "[encoded data removed]",
      "text/plain": [
       "<matplotlib.figure.Figure at 0x1173787f0>"
      ]
     },
     "metadata": {},
     "output_type": "display_data"
    }
   ],
   "source": [
    "# Percent point function (inverse of cdf — percentiles).\n",
    "result = norm.ppf(q, loc=5, scale=0.5)\n",
    "\n",
    "# Plot resulting distribution\n",
    "plt.figure(figsize=(6, 4));\n",
    "sns.distplot(result);"
   ]
  },
  {
   "cell_type": "markdown",
   "metadata": {},
   "source": [
    "## LHS using pyDOE\n",
    "\n",
    "https://pythonhosted.org/pyDOE/randomized.html"
   ]
  },
  {
   "cell_type": "code",
   "execution_count": 6,
   "metadata": {
    "collapsed": true
   },
   "outputs": [],
   "source": [
    "from pyDOE import lhs"
   ]
  },
  {
   "cell_type": "code",
   "execution_count": 7,
   "metadata": {},
   "outputs": [
    {
     "data": {
      "text/html": [
       "<div>\n",
       "<style>\n",
       "    .dataframe thead tr:only-child th {\n",
       "        text-align: right;\n",
       "    }\n",
       "\n",
       "    .dataframe thead th {\n",
       "        text-align: left;\n",
       "    }\n",
       "\n",
       "    .dataframe tbody tr th {\n",
       "        vertical-align: top;\n",
       "    }\n",
       "</style>\n",
       "<table border=\"1\" class=\"dataframe\">\n",
       "  <thead>\n",
       "    <tr style=\"text-align: right;\">\n",
       "      <th></th>\n",
       "      <th>F_1</th>\n",
       "      <th>F_2</th>\n",
       "      <th>F_3</th>\n",
       "      <th>F_4</th>\n",
       "      <th>F_5</th>\n",
       "    </tr>\n",
       "  </thead>\n",
       "  <tbody>\n",
       "    <tr>\n",
       "      <th>0</th>\n",
       "      <td>0.673975</td>\n",
       "      <td>0.145667</td>\n",
       "      <td>0.118923</td>\n",
       "      <td>0.788445</td>\n",
       "      <td>0.223036</td>\n",
       "    </tr>\n",
       "    <tr>\n",
       "      <th>1</th>\n",
       "      <td>0.146497</td>\n",
       "      <td>0.604052</td>\n",
       "      <td>0.549541</td>\n",
       "      <td>0.412689</td>\n",
       "      <td>0.737441</td>\n",
       "    </tr>\n",
       "    <tr>\n",
       "      <th>2</th>\n",
       "      <td>0.120977</td>\n",
       "      <td>0.438419</td>\n",
       "      <td>0.730274</td>\n",
       "      <td>0.250944</td>\n",
       "      <td>0.057528</td>\n",
       "    </tr>\n",
       "    <tr>\n",
       "      <th>3</th>\n",
       "      <td>0.645606</td>\n",
       "      <td>0.429050</td>\n",
       "      <td>0.851047</td>\n",
       "      <td>0.677295</td>\n",
       "      <td>0.201661</td>\n",
       "    </tr>\n",
       "    <tr>\n",
       "      <th>4</th>\n",
       "      <td>0.171498</td>\n",
       "      <td>0.075978</td>\n",
       "      <td>0.790038</td>\n",
       "      <td>0.128407</td>\n",
       "      <td>0.825455</td>\n",
       "    </tr>\n",
       "    <tr>\n",
       "      <th>5</th>\n",
       "      <td>0.668400</td>\n",
       "      <td>0.543337</td>\n",
       "      <td>0.285699</td>\n",
       "      <td>0.554743</td>\n",
       "      <td>0.851329</td>\n",
       "    </tr>\n",
       "    <tr>\n",
       "      <th>6</th>\n",
       "      <td>0.948965</td>\n",
       "      <td>0.445299</td>\n",
       "      <td>0.570659</td>\n",
       "      <td>0.685568</td>\n",
       "      <td>0.614244</td>\n",
       "    </tr>\n",
       "    <tr>\n",
       "      <th>7</th>\n",
       "      <td>0.542234</td>\n",
       "      <td>0.017351</td>\n",
       "      <td>0.489604</td>\n",
       "      <td>0.474372</td>\n",
       "      <td>0.956362</td>\n",
       "    </tr>\n",
       "    <tr>\n",
       "      <th>8</th>\n",
       "      <td>0.888868</td>\n",
       "      <td>0.381552</td>\n",
       "      <td>0.306194</td>\n",
       "      <td>0.738890</td>\n",
       "      <td>0.868512</td>\n",
       "    </tr>\n",
       "    <tr>\n",
       "      <th>9</th>\n",
       "      <td>0.613642</td>\n",
       "      <td>0.110913</td>\n",
       "      <td>0.698211</td>\n",
       "      <td>0.118868</td>\n",
       "      <td>0.639027</td>\n",
       "    </tr>\n",
       "  </tbody>\n",
       "</table>\n",
       "</div>"
      ],
      "text/plain": [
       "        F_1       F_2       F_3       F_4       F_5\n",
       "0  0.673975  0.145667  0.118923  0.788445  0.223036\n",
       "1  0.146497  0.604052  0.549541  0.412689  0.737441\n",
       "2  0.120977  0.438419  0.730274  0.250944  0.057528\n",
       "3  0.645606  0.429050  0.851047  0.677295  0.201661\n",
       "4  0.171498  0.075978  0.790038  0.128407  0.825455\n",
       "5  0.668400  0.543337  0.285699  0.554743  0.851329\n",
       "6  0.948965  0.445299  0.570659  0.685568  0.614244\n",
       "7  0.542234  0.017351  0.489604  0.474372  0.956362\n",
       "8  0.888868  0.381552  0.306194  0.738890  0.868512\n",
       "9  0.613642  0.110913  0.698211  0.118868  0.639027"
      ]
     },
     "execution_count": 7,
     "metadata": {},
     "output_type": "execute_result"
    }
   ],
   "source": [
    "# Latin hypercube sampling with 5 factors and 10 samples\n",
    "sample = pd.DataFrame(lhs(5, samples=100), columns=['F_1','F_2','F_3','F_4','F_5'])\n",
    "sample[:10]"
   ]
  },
  {
   "cell_type": "code",
   "execution_count": 9,
   "metadata": {},
   "outputs": [
    {
     "data": {
      "text/plain": [
       "{'F_1': {'mean': 1, 'std': 0.1},\n",
       " 'F_2': {'mean': 2, 'std': 0.5},\n",
       " 'F_3': {'mean': 3, 'std': 1.0},\n",
       " 'F_4': {'mean': 4, 'std': 0.25},\n",
       " 'F_5': {'mean': 5, 'std': 0.8}}"
      ]
     },
     "execution_count": 9,
     "metadata": {},
     "output_type": "execute_result"
    }
   ],
   "source": [
    "# Assign normal distribution parameters to each factor\n",
    "dists = {\n",
    "    'F_1': {'mean': 1, 'std': 0.1},\n",
    "    'F_2': {'mean': 2, 'std': 0.5},\n",
    "    'F_3': {'mean': 3, 'std': 1.0},\n",
    "    'F_4': {'mean': 4, 'std': 0.25},\n",
    "    'F_5': {'mean': 5, 'std': 0.8}\n",
    "}\n",
    "dists"
   ]
  },
  {
   "cell_type": "code",
   "execution_count": 10,
   "metadata": {},
   "outputs": [
    {
     "data": {
      "text/html": [
       "<div>\n",
       "<style>\n",
       "    .dataframe thead tr:only-child th {\n",
       "        text-align: right;\n",
       "    }\n",
       "\n",
       "    .dataframe thead th {\n",
       "        text-align: left;\n",
       "    }\n",
       "\n",
       "    .dataframe tbody tr th {\n",
       "        vertical-align: top;\n",
       "    }\n",
       "</style>\n",
       "<table border=\"1\" class=\"dataframe\">\n",
       "  <thead>\n",
       "    <tr style=\"text-align: right;\">\n",
       "      <th></th>\n",
       "      <th>F_1</th>\n",
       "      <th>F_2</th>\n",
       "      <th>F_3</th>\n",
       "      <th>F_4</th>\n",
       "      <th>F_5</th>\n",
       "    </tr>\n",
       "  </thead>\n",
       "  <tbody>\n",
       "    <tr>\n",
       "      <th>0</th>\n",
       "      <td>1.045092</td>\n",
       "      <td>1.472399</td>\n",
       "      <td>1.819611</td>\n",
       "      <td>4.200260</td>\n",
       "      <td>4.390415</td>\n",
       "    </tr>\n",
       "    <tr>\n",
       "      <th>1</th>\n",
       "      <td>0.894842</td>\n",
       "      <td>2.131924</td>\n",
       "      <td>3.124501</td>\n",
       "      <td>3.944842</td>\n",
       "      <td>5.508381</td>\n",
       "    </tr>\n",
       "    <tr>\n",
       "      <th>2</th>\n",
       "      <td>0.882988</td>\n",
       "      <td>1.922511</td>\n",
       "      <td>3.613641</td>\n",
       "      <td>3.832119</td>\n",
       "      <td>3.739303</td>\n",
       "    </tr>\n",
       "    <tr>\n",
       "      <th>3</th>\n",
       "      <td>1.037348</td>\n",
       "      <td>1.910603</td>\n",
       "      <td>4.040935</td>\n",
       "      <td>4.115037</td>\n",
       "      <td>4.331437</td>\n",
       "    </tr>\n",
       "    <tr>\n",
       "      <th>4</th>\n",
       "      <td>0.905174</td>\n",
       "      <td>1.283673</td>\n",
       "      <td>3.806554</td>\n",
       "      <td>3.716512</td>\n",
       "      <td>5.749085</td>\n",
       "    </tr>\n",
       "    <tr>\n",
       "      <th>5</th>\n",
       "      <td>1.043550</td>\n",
       "      <td>2.054422</td>\n",
       "      <td>2.434007</td>\n",
       "      <td>4.034414</td>\n",
       "      <td>5.833720</td>\n",
       "    </tr>\n",
       "    <tr>\n",
       "      <th>6</th>\n",
       "      <td>1.163490</td>\n",
       "      <td>1.931226</td>\n",
       "      <td>3.178051</td>\n",
       "      <td>4.120832</td>\n",
       "      <td>5.232318</td>\n",
       "    </tr>\n",
       "    <tr>\n",
       "      <th>7</th>\n",
       "      <td>1.010606</td>\n",
       "      <td>0.944090</td>\n",
       "      <td>2.973938</td>\n",
       "      <td>3.983929</td>\n",
       "      <td>6.367958</td>\n",
       "    </tr>\n",
       "    <tr>\n",
       "      <th>8</th>\n",
       "      <td>1.122053</td>\n",
       "      <td>1.849296</td>\n",
       "      <td>2.493331</td>\n",
       "      <td>4.159981</td>\n",
       "      <td>5.895507</td>\n",
       "    </tr>\n",
       "    <tr>\n",
       "      <th>9</th>\n",
       "      <td>1.028882</td>\n",
       "      <td>1.389157</td>\n",
       "      <td>3.519261</td>\n",
       "      <td>3.704833</td>\n",
       "      <td>5.284688</td>\n",
       "    </tr>\n",
       "  </tbody>\n",
       "</table>\n",
       "</div>"
      ],
      "text/plain": [
       "        F_1       F_2       F_3       F_4       F_5\n",
       "0  1.045092  1.472399  1.819611  4.200260  4.390415\n",
       "1  0.894842  2.131924  3.124501  3.944842  5.508381\n",
       "2  0.882988  1.922511  3.613641  3.832119  3.739303\n",
       "3  1.037348  1.910603  4.040935  4.115037  4.331437\n",
       "4  0.905174  1.283673  3.806554  3.716512  5.749085\n",
       "5  1.043550  2.054422  2.434007  4.034414  5.833720\n",
       "6  1.163490  1.931226  3.178051  4.120832  5.232318\n",
       "7  1.010606  0.944090  2.973938  3.983929  6.367958\n",
       "8  1.122053  1.849296  2.493331  4.159981  5.895507\n",
       "9  1.028882  1.389157  3.519261  3.704833  5.284688"
      ]
     },
     "execution_count": 10,
     "metadata": {},
     "output_type": "execute_result"
    }
   ],
   "source": [
    "# Customizing sample with given statistical distributions\n",
    "sample_mod = sample.apply(lambda x: norm.ppf(x, loc=dists[x.name]['mean'], scale=dists[x.name]['std']))\n",
    "sample_mod[:10]"
   ]
  },
  {
   "cell_type": "code",
   "execution_count": 13,
   "metadata": {},
   "outputs": [
    {
     "data": {
      "image/png": "[encoded data removed]",
      "text/plain": [
       "<matplotlib.figure.Figure at 0x117227550>"
      ]
     },
     "metadata": {},
     "output_type": "display_data"
    }
   ],
   "source": [
    "fig, (ax1, ax2) = plt.subplots(1, 2, figsize=(11, 4))\n",
    "sns.distplot(sample['F_1'], kde=False, ax=ax1);\n",
    "sns.distplot(sample_mod['F_1'], ax=ax2);\n",
    "ax1.set_title('Uniform Distribution');\n",
    "ax2.set_title('Normal Distribution');"
   ]
  },
  {
   "cell_type": "code",
   "execution_count": 14,
   "metadata": {},
   "outputs": [
    {
     "data": {
      "image/png": "[encoded data removed]",
      "text/plain": [
       "<matplotlib.figure.Figure at 0x11727d748>"
      ]
     },
     "metadata": {},
     "output_type": "display_data"
    }
   ],
   "source": [
    "fig, (ax1, ax2) = plt.subplots(1, 2, figsize=(11, 4))\n",
    "sns.distplot(sample['F_5'], kde=False, ax=ax1);\n",
    "sns.distplot(sample_mod['F_5'], ax=ax2);\n",
    "ax1.set_title('Uniform Distribution');\n",
    "ax2.set_title('Normal Distribution');"
   ]
  },
  {
   "cell_type": "code",
   "execution_count": null,
   "metadata": {
    "collapsed": true
   },
   "outputs": [],
   "source": []
  }
 ],
 "metadata": {
  "kernelspec": {
   "display_name": "Python [conda root]",
   "language": "python",
   "name": "conda-root-py"
  },
  "language_info": {
   "codemirror_mode": {
    "name": "ipython",
    "version": 3
   },
   "file_extension": ".py",
   "mimetype": "text/x-python",
   "name": "python",
   "nbconvert_exporter": "python",
   "pygments_lexer": "ipython3",
   "version": "3.6.3"
  }
 },
 "nbformat": 4,
 "nbformat_minor": 2
}
